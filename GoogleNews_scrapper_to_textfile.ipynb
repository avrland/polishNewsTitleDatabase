{
  "nbformat": 4,
  "nbformat_minor": 0,
  "metadata": {
    "colab": {
      "name": "GoogleNews scrapper to textfile",
      "provenance": [],
      "toc_visible": true,
      "authorship_tag": "ABX9TyPkSMRyaBB0otQmvXLUPO12",
      "include_colab_link": true
    },
    "kernelspec": {
      "name": "python3",
      "display_name": "Python 3"
    },
    "language_info": {
      "name": "python"
    }
  },
  "cells": [
    {
      "cell_type": "markdown",
      "metadata": {
        "id": "view-in-github",
        "colab_type": "text"
      },
      "source": [
        "<a href=\"https://colab.research.google.com/github/avrland/polishNewsTitleDatabase/blob/main/GoogleNews_scrapper_to_textfile.ipynb\" target=\"_parent\"><img src=\"https://colab.research.google.com/assets/colab-badge.svg\" alt=\"Open In Colab\"/></a>"
      ]
    },
    {
      "cell_type": "markdown",
      "metadata": {
        "id": "EqGBbhIIPZ43"
      },
      "source": [
        "# Dependencies import"
      ]
    },
    {
      "cell_type": "code",
      "metadata": {
        "id": "UmSf7nYLgbfV"
      },
      "source": [
        "!pip install GoogleNews\n",
        "!pip install gnewsclient\n",
        "from GoogleNews import GoogleNews\n",
        "import pandas as pd\n",
        "import json\n",
        "import matplotlib.pyplot as plt\n",
        "import numpy as np\n",
        "import hashlib\n",
        "import os"
      ],
      "execution_count": null,
      "outputs": []
    },
    {
      "cell_type": "markdown",
      "metadata": {
        "id": "jtia3EJJC2C-"
      },
      "source": [
        "# Enter parameters and tags of collected newses"
      ]
    },
    {
      "cell_type": "code",
      "metadata": {
        "id": "f_ae26zHNTt3"
      },
      "source": [
        "newsLang = 'pl' \n",
        "rawFileName = \"titles.txt\" \n",
        "finalFileName = \"titlesWithoutDuplicates.txt\"\n",
        "newsTags = [ \"swiat\", \"koronawirus\", \"pis\", \"polska\", \"sport\", \"apple\", \"samsung\", \"technologia\", \"COVID-19\", \"amazon\", \"google\", \"gospodarka\", \"chiny\", \"rozrywka\", \"nauka\"]"
      ],
      "execution_count": null,
      "outputs": []
    },
    {
      "cell_type": "markdown",
      "metadata": {
        "id": "8VWAH-Kd-A47"
      },
      "source": [
        "# saveToFile function\n",
        "Saves prepared **inputArray** of titles to text file **savedTitlesFilename**"
      ]
    },
    {
      "cell_type": "code",
      "metadata": {
        "id": "89weIr0W8bt-"
      },
      "source": [
        "def saveToFile(inputArray, outputFileName):\n",
        "  file_object = open(outputFileName, 'a', encoding=\"utf-8\")\n",
        "  for count in range(0, len(inputArray['title'])):\n",
        "      single_article = inputArray['title'][count]\n",
        "      file_object.write('\\n' + single_article)\n",
        "  file_object.close()"
      ],
      "execution_count": null,
      "outputs": []
    },
    {
      "cell_type": "markdown",
      "metadata": {
        "id": "SLAmi7H_JO75"
      },
      "source": [
        "# Remove duplicates\n",
        "We don't want duplicated titles. So we remove them, creating **finalFileName** from **rawFileName**."
      ]
    },
    {
      "cell_type": "code",
      "metadata": {
        "id": "CcOhWCewGfoN"
      },
      "source": [
        "def removeDuplicates(inFileName, outFileName):\n",
        "  x = 0\n",
        "  lines_seen = set() # holds lines already seen\n",
        "  with open(outFileName, \"w\", encoding=\"utf-8\") as output_file:\n",
        "      for each_line in open(inFileName, \"r\", encoding=\"utf-8\"):\n",
        "          if each_line not in lines_seen: # check if line is not duplicate\n",
        "              output_file.write(each_line)\n",
        "              lines_seen.add(each_line)\n",
        "          else:\n",
        "              x = x+1\n",
        "  print(\"Duplicates removed: \" + str(x))\n"
      ],
      "execution_count": null,
      "outputs": []
    },
    {
      "cell_type": "markdown",
      "metadata": {
        "id": "MxRmT2ao851y"
      },
      "source": [
        "# Download newses from Google News\n",
        "We download newses from last 24h. We insert them in **output** pandas dataframe. Then we save it into **rawFileName** and remove duplicates saving it in **finalFileName**."
      ]
    },
    {
      "cell_type": "code",
      "metadata": {
        "colab": {
          "base_uri": "https://localhost:8080/"
        },
        "id": "Mrr2YoKzt3Pq",
        "outputId": "b90df2f0-d21c-4d85-a336-334276dd4ece"
      },
      "source": [
        "x = 0\n",
        "for tag in newsTags:\n",
        "  print(\"Collecting newses from tag: \" + tag + \"...\")\n",
        "  googlenews = GoogleNews()\n",
        "  googlenews.clear()\n",
        "  googlenews.set_lang(newsLang)\n",
        "  #googlenews.set_time_range('01/03/2020','10/03/2021')\n",
        "  googlenews.setperiod('1d')\n",
        "  googlenews.get_news(tag)\n",
        "  output = googlenews.results(sort=True)\n",
        "  output = pd.DataFrame(output)\n",
        "  x = x + len(output['title'])\n",
        "  saveToFile(output, rawFileName)\n",
        "print(\"Collected amount of news: \" + str(x))\n",
        "removeDuplicates(rawFileName, finalFileName)"
      ],
      "execution_count": null,
      "outputs": [
        {
          "output_type": "stream",
          "text": [
            "Collecting newses from tag: swiat...\n",
            "'<' not supported between instances of 'NoneType' and 'datetime.datetime'\n",
            "Collecting newses from tag: koronawirus...\n",
            "Collecting newses from tag: pis...\n",
            "Collecting newses from tag: polska...\n",
            "Collecting newses from tag: sport...\n",
            "Collecting newses from tag: apple...\n",
            "Collecting newses from tag: samsung...\n",
            "Collecting newses from tag: technologia...\n",
            "Collecting newses from tag: COVID-19...\n",
            "Collecting newses from tag: amazon...\n",
            "Collecting newses from tag: google...\n",
            "Collecting newses from tag: gospodarka...\n",
            "Collecting newses from tag: chiny...\n",
            "Collecting newses from tag: rozrywka...\n",
            "Collecting newses from tag: nauka...\n",
            "Collected amount of news: 1058\n",
            "Duplicates removed: 71\n"
          ],
          "name": "stdout"
        }
      ]
    },
    {
      "cell_type": "markdown",
      "metadata": {
        "id": "T6HhlFLXSg0R"
      },
      "source": [
        "If you want to collect more data in single file, delete bufor file and rename final file into titles.txt"
      ]
    },
    {
      "cell_type": "code",
      "metadata": {
        "id": "yTQyorTxQ490"
      },
      "source": [
        "os.remove(rawFileName) #delete bufor file\n",
        "os.rename(finalFileName,rawFileName) #rename final file to bufor name"
      ],
      "execution_count": null,
      "outputs": []
    }
  ]
}